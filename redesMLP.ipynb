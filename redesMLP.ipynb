{
 "cells": [
  {
   "cell_type": "markdown",
   "id": "067e63ea",
   "metadata": {},
   "source": [
    "Empezamos cargando el Dataset MNIST"
   ]
  },
  {
   "attachments": {
    "image.png": {
     "image/png": "[encoded data removed]"
    }
   },
   "cell_type": "markdown",
   "id": "460384d4",
   "metadata": {},
   "source": [
    "Lo que hicimos fue convertiras las imagenes a tensores en valores entre 0 y 1, esto lo hacemos con el normalizar y esos dos valores que definimos ahi son para que tengan una media de 0 y una desviacion estandar de 1, algo que ayuda a que el modelo aprenda mas rapida. \n",
    "Siendo la formula ![image.png](attachment:image.png) Donde:\n",
    "\n",
    "    x = valor original del píxel,\n",
    "\n",
    "    μ (mean) = 0.1307,\n",
    "\n",
    "    σ (std) = 0.3081."
   ]
  },
  {
   "cell_type": "code",
   "execution_count": 1,
   "id": "c96f0860",
   "metadata": {},
   "outputs": [],
   "source": [
    "import torch\n",
    "from torchvision import datasets, transforms\n",
    "from torch.utils.data import DataLoader\n",
    "\n",
    "# Transformaciones: convertir a tensor y normalizar\n",
    "transform = transforms.Compose([\n",
    "    transforms.ToTensor(),\n",
    "    transforms.Normalize((0.1307,), (0.3081,))\n",
    "])\n",
    "\n",
    "# Cargar dataset\n",
    "train_dataset = datasets.MNIST(root='./data', train=True, download=True, transform=transform)\n",
    "test_dataset = datasets.MNIST(root='./data', train=False, download=True, transform=transform)\n",
    "\n",
    "# DataLoaders\n",
    "batch_size = 64  \n",
    "train_loader = DataLoader(train_dataset, batch_size=batch_size, shuffle=True)\n",
    "test_loader = DataLoader(test_dataset, batch_size=batch_size, shuffle=False)\n"
   ]
  },
  {
   "cell_type": "markdown",
   "id": "ea0a7f6f",
   "metadata": {},
   "source": [
    "Aca vamos a contruir el modelo MLP con 28*28 entradas y 10 salidas."
   ]
  },
  {
   "cell_type": "markdown",
   "id": "3144875a",
   "metadata": {},
   "source": [
    "__init__ define la estructura de la red (capas y activación).\n",
    "\n",
    "forward define cómo se calculan las salidas paso a paso."
   ]
  },
  {
   "cell_type": "code",
   "execution_count": 2,
   "id": "c77eb5f9",
   "metadata": {},
   "outputs": [],
   "source": [
    "import torch.nn as nn\n",
    "import torch.nn.functional as F\n",
    "\n",
    "class MLP(nn.Module):\n",
    "    def __init__(self, hidden_layers=[128, 64], activation=nn.ReLU):\n",
    "        super(MLP, self).__init__()\n",
    "        self.fc1 = nn.Linear(28*28, hidden_layers[0])\n",
    "        self.fc2 = nn.Linear(hidden_layers[0], hidden_layers[1])\n",
    "        self.fc3 = nn.Linear(hidden_layers[1], 10)\n",
    "        self.activation = activation()\n",
    "\n",
    "    def forward(self, x):\n",
    "        x = x.view(-1, 28*28)\n",
    "        x = self.activation(self.fc1(x))\n",
    "        x = self.activation(self.fc2(x))\n",
    "        return self.fc3(x)\n"
   ]
  },
  {
   "cell_type": "markdown",
   "id": "2cc14926",
   "metadata": {},
   "source": [
    "Función de entrenamiento y test\n",
    "\n",
    "train() → realiza una época de entrenamiento (forward, backpropagation, actualización de pesos).\n",
    "\n",
    "evaluate() → calcula qué tan bien predice el modelo en datos nunca vistos (accuracy)."
   ]
  },
  {
   "cell_type": "code",
   "execution_count": 3,
   "id": "d01523a9",
   "metadata": {},
   "outputs": [],
   "source": [
    "import torch.optim as optim\n",
    "\n",
    "def train(model, train_loader, criterion, optimizer, device):\n",
    "    model.train()\n",
    "    for images, labels in train_loader:\n",
    "        images, labels = images.to(device), labels.to(device)\n",
    "        optimizer.zero_grad()\n",
    "        output = model(images)\n",
    "        loss = criterion(output, labels)\n",
    "        loss.backward()\n",
    "        optimizer.step()\n",
    "\n",
    "def evaluate(model, test_loader, device):\n",
    "    model.eval()\n",
    "    correct, total = 0, 0\n",
    "    with torch.no_grad():\n",
    "        for images, labels in test_loader:\n",
    "            images, labels = images.to(device), labels.to(device)\n",
    "            output = model(images)\n",
    "            _, predicted = torch.max(output, 1)\n",
    "            total += labels.size(0)\n",
    "            correct += (predicted == labels).sum().item()\n",
    "    return correct / total\n"
   ]
  },
  {
   "cell_type": "markdown",
   "id": "47ee54a0",
   "metadata": {},
   "source": [
    "Entrenamiento:\n",
    "\n",
    "run_experiment toma una configuración de hiperparámetros, entrena el modelo con ella y devuelve su accuracy."
   ]
  },
  {
   "cell_type": "code",
   "execution_count": 4,
   "id": "6fffb2af",
   "metadata": {},
   "outputs": [],
   "source": [
    "device = torch.device(\"cuda\" if torch.cuda.is_available() else \"cpu\")\n",
    "\n",
    "def run_experiment(hidden_layers, activation, lr, batch_size, epochs):\n",
    "    train_loader = DataLoader(train_dataset, batch_size=batch_size, shuffle=True)\n",
    "    model = MLP(hidden_layers=hidden_layers, activation=activation).to(device)\n",
    "    criterion = nn.CrossEntropyLoss()\n",
    "    optimizer = optim.Adam(model.parameters(), lr=lr)\n",
    "    \n",
    "    for epoch in range(epochs):\n",
    "        train(model, train_loader, criterion, optimizer, device)\n",
    "    \n",
    "    acc = evaluate(model, test_loader, device)\n",
    "    return acc\n"
   ]
  },
  {
   "cell_type": "code",
   "execution_count": 5,
   "id": "2102de01",
   "metadata": {},
   "outputs": [
    {
     "name": "stdout",
     "output_type": "stream",
     "text": [
      "Accuracy: 0.9654 con {'hidden_layers': [128, 64], 'activation': <class 'torch.nn.modules.activation.ReLU'>, 'lr': 0.01, 'batch_size': 64, 'epochs': 10}\n",
      "Accuracy: 0.9753 con {'hidden_layers': [256, 128, 64], 'activation': <class 'torch.nn.modules.activation.Tanh'>, 'lr': 0.001, 'batch_size': 32, 'epochs': 15}\n",
      "Accuracy: 0.9811 con {'hidden_layers': [512, 256], 'activation': <class 'torch.nn.modules.activation.LeakyReLU'>, 'lr': 0.0005, 'batch_size': 128, 'epochs': 20}\n"
     ]
    }
   ],
   "source": [
    "configs = [\n",
    "    {'hidden_layers': [128,64], 'activation': nn.ReLU, 'lr': 0.01, 'batch_size': 64, 'epochs': 10},\n",
    "    {'hidden_layers': [256,128,64], 'activation': nn.Tanh, 'lr': 0.001, 'batch_size': 32, 'epochs': 15},\n",
    "    {'hidden_layers': [512,256], 'activation': nn.LeakyReLU, 'lr': 0.0005, 'batch_size': 128, 'epochs': 20}\n",
    "]\n",
    "\n",
    "manual_results = []\n",
    "for cfg in configs:\n",
    "    acc = run_experiment(**cfg)\n",
    "    manual_results.append((cfg, acc))\n",
    "\n",
    "# Imprimir resultados\n",
    "for cfg, acc in manual_results:\n",
    "    print(f\"Accuracy: {acc:.4f} con {cfg}\")\n"
   ]
  },
  {
   "cell_type": "markdown",
   "id": "4ca93777",
   "metadata": {},
   "source": [
    "El mejor modelo manual fue M3, gracias a:\n",
    "\n",
    "* Más capas → mejor representación.\n",
    "\n",
    "* LeakyReLU → mejor propagación del gradiente.\n",
    "\n",
    "* Learning rate pequeño → aprendizaje estable."
   ]
  },
  {
   "cell_type": "markdown",
   "id": "65e70c18",
   "metadata": {},
   "source": [
    "Tuning de Hiperparámetros\n",
    "\n",
    "Para uno de los modelos vamos a aplicar random search"
   ]
  },
  {
   "cell_type": "code",
   "execution_count": 9,
   "id": "3029dfb7",
   "metadata": {},
   "outputs": [],
   "source": [
    "import random\n",
    "\n",
    "param_grid = {\n",
    "    'hidden_layers': [[128,64], [256,128], [512,256,128]],\n",
    "    'activation': [nn.ReLU, nn.Tanh, nn.LeakyReLU],\n",
    "    'lr': [0.01, 0.001, 0.0005],\n",
    "    'batch_size': [32,64,128],\n",
    "    'epochs': [5,10,15]\n",
    "}\n",
    "\n",
    "results = []\n",
    "for _ in range(5):  # 5 combinaciones aleatorias\n",
    "    params = {k: random.choice(v) for k, v in param_grid.items()}\n",
    "    acc = run_experiment(**params)\n",
    "    results.append((params, acc))\n"
   ]
  },
  {
   "cell_type": "code",
   "execution_count": 11,
   "id": "44604cfb",
   "metadata": {},
   "outputs": [
    {
     "name": "stdout",
     "output_type": "stream",
     "text": [
      "Accuracy: 0.9820 con {'hidden_layers': [512, 256, 128], 'activation': <class 'torch.nn.modules.activation.LeakyReLU'>, 'lr': 0.0005, 'batch_size': 32, 'epochs': 15}\n",
      "Accuracy: 0.9815 con {'hidden_layers': [256, 128], 'activation': <class 'torch.nn.modules.activation.LeakyReLU'>, 'lr': 0.0005, 'batch_size': 64, 'epochs': 15}\n",
      "Accuracy: 0.9807 con {'hidden_layers': [512, 256, 128], 'activation': <class 'torch.nn.modules.activation.LeakyReLU'>, 'lr': 0.001, 'batch_size': 64, 'epochs': 5}\n",
      "Accuracy: 0.9781 con {'hidden_layers': [256, 128], 'activation': <class 'torch.nn.modules.activation.Tanh'>, 'lr': 0.0005, 'batch_size': 64, 'epochs': 10}\n",
      "Accuracy: 0.9698 con {'hidden_layers': [128, 64], 'activation': <class 'torch.nn.modules.activation.Tanh'>, 'lr': 0.001, 'batch_size': 32, 'epochs': 5}\n"
     ]
    }
   ],
   "source": [
    "for params, acc in sorted(results, key=lambda x: x[1], reverse=True):\n",
    "    print(f\"Accuracy: {acc:.4f} con {params}\")\n"
   ]
  },
  {
   "cell_type": "markdown",
   "id": "e270f6c7",
   "metadata": {},
   "source": [
    "En este laboratorio, observamos que el número de capas ocultas, el tipo de función de activación y la tasa de aprendizaje (lr) fueron los hiperparámetros que más influyeron en el rendimiento. Redes más profundas con activación LeakyReLU y un learning rate pequeño (0.0005) obtuvieron los mejores resultados, alcanzando un accuracy de 0.9820. Esto se debe a que redes más profundas capturan mejor las características del dataset, LeakyReLU evita problemas de gradiente nulo y una tasa de aprendizaje pequeña permite ajustes más finos en los pesos."
   ]
  },
  {
   "cell_type": "markdown",
   "id": "6b1476a2",
   "metadata": {},
   "source": [
    "| Ranking  | Configuración                                              | Accuracy   |\n",
    "| -------- | ---------------------------------------------------------- | ---------- |\n",
    "|  **1** | `[512,256,128]`, LeakyReLU, lr=0.0005, batch=32, epochs=15 | **0.9820** |\n",
    "|  **2** | `[512,256]`, LeakyReLU, lr=0.0005, batch=128, epochs=20    | **0.9811** |\n",
    "|  **3** | `[256,128]`, LeakyReLU, lr=0.0005, batch=64, epochs=15     | **0.9815** |\n",
    "| 4        | `[512,256,128]`, LeakyReLU, lr=0.001, batch=64, epochs=5   | **0.9807** |\n",
    "| 5        | `[256,128,64]`, Tanh, lr=0.001, batch=32, epochs=15        | **0.9753** |\n",
    "| 6        | `[256,128]`, Tanh, lr=0.0005, batch=64, epochs=10          | **0.9781** |\n",
    "| 7        | `[128,64]`, ReLU, lr=0.01, batch=64, epochs=10             | **0.9654** |\n",
    "| 8        | `[128,64]`, Tanh, lr=0.001, batch=32, epochs=5             | **0.9698** |\n"
   ]
  },
  {
   "cell_type": "code",
   "execution_count": null,
   "id": "348fa97d",
   "metadata": {},
   "outputs": [],
   "source": [
    "import matplotlib.pyplot as plt\n",
    "import torchvision.transforms as transforms\n",
    "from PIL import Image\n",
    "\n",
    "# Tomar una imagen de test dataset\n",
    "image, label = test_dataset[0]  # la primera imagen del dataset\n",
    "plt.imshow(image.squeeze(), cmap='gray')\n",
    "plt.title(f\"Etiqueta real: {label}\")\n",
    "plt.show()\n",
    "\n",
    "# Preparar para el modelo\n",
    "model.eval()\n",
    "with torch.no_grad():\n",
    "    img = image.unsqueeze(0).to(device)  # agregar batch dimension y mover a GPU/CPU\n",
    "    output = model(img)\n",
    "    predicted = torch.argmax(output, 1).item()\n",
    "\n",
    "print(f\"Predicción del modelo: {predicted}\")\n"
   ]
  }
 ],
 "metadata": {
  "kernelspec": {
   "display_name": "Python 3",
   "language": "python",
   "name": "python3"
  },
  "language_info": {
   "codemirror_mode": {
    "name": "ipython",
    "version": 3
   },
   "file_extension": ".py",
   "mimetype": "text/x-python",
   "name": "python",
   "nbconvert_exporter": "python",
   "pygments_lexer": "ipython3",
   "version": "3.10.0"
  }
 },
 "nbformat": 4,
 "nbformat_minor": 5
}
